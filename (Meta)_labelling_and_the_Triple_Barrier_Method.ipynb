{
  "nbformat": 4,
  "nbformat_minor": 0,
  "metadata": {
    "colab": {
      "name": "(Meta)-labelling and the Triple Barrier Method",
      "provenance": [],
      "collapsed_sections": [],
      "include_colab_link": true
    },
    "kernelspec": {
      "name": "python3",
      "display_name": "Python 3"
    }
  },
  "cells": [
    {
      "cell_type": "markdown",
      "metadata": {
        "id": "view-in-github",
        "colab_type": "text"
      },
      "source": [
        "<a href=\"https://colab.research.google.com/github/GeorgeEngland/ALGOS/blob/master/(Meta)_labelling_and_the_Triple_Barrier_Method.ipynb\" target=\"_parent\"><img src=\"https://colab.research.google.com/assets/colab-badge.svg\" alt=\"Open In Colab\"/></a>"
      ]
    },
    {
      "cell_type": "markdown",
      "metadata": {
        "id": "EvB1LpsOkny7"
      },
      "source": [
        "Original Article:"
      ]
    },
    {
      "cell_type": "markdown",
      "metadata": {
        "id": "7TcmAAFaktFM"
      },
      "source": [
        "Installing and Importing Requisite Packages\n"
      ]
    },
    {
      "cell_type": "code",
      "metadata": {
        "id": "nepFFBMXhBoe",
        "outputId": "e74aebf7-273d-482d-cc10-d71db534dd91",
        "colab": {
          "base_uri": "https://localhost:8080/"
        }
      },
      "source": [
        "pip install dask[dataframe] --upgrade"
      ],
      "execution_count": 11,
      "outputs": [
        {
          "output_type": "stream",
          "name": "stdout",
          "text": [
            "Requirement already satisfied: dask[dataframe] in /usr/local/lib/python3.7/dist-packages (2.12.0)\n",
            "Collecting partd>=0.3.10\n",
            "  Downloading partd-1.2.0-py3-none-any.whl (19 kB)\n",
            "Requirement already satisfied: pandas>=0.23.0 in /usr/local/lib/python3.7/dist-packages (from dask[dataframe]) (1.1.5)\n",
            "Requirement already satisfied: toolz>=0.7.3 in /usr/local/lib/python3.7/dist-packages (from dask[dataframe]) (0.11.2)\n",
            "Collecting fsspec>=0.6.0\n",
            "  Downloading fsspec-2021.11.0-py3-none-any.whl (132 kB)\n",
            "\u001b[K     |████████████████████████████████| 132 kB 48.3 MB/s \n",
            "\u001b[?25hRequirement already satisfied: numpy>=1.13.0 in /usr/local/lib/python3.7/dist-packages (from dask[dataframe]) (1.19.5)\n",
            "Requirement already satisfied: pytz>=2017.2 in /usr/local/lib/python3.7/dist-packages (from pandas>=0.23.0->dask[dataframe]) (2018.9)\n",
            "Requirement already satisfied: python-dateutil>=2.7.3 in /usr/local/lib/python3.7/dist-packages (from pandas>=0.23.0->dask[dataframe]) (2.8.2)\n",
            "Collecting locket\n",
            "  Downloading locket-0.2.1-py2.py3-none-any.whl (4.1 kB)\n",
            "Requirement already satisfied: six>=1.5 in /usr/local/lib/python3.7/dist-packages (from python-dateutil>=2.7.3->pandas>=0.23.0->dask[dataframe]) (1.15.0)\n",
            "Installing collected packages: locket, partd, fsspec\n",
            "Successfully installed fsspec-2021.11.0 locket-0.2.1 partd-1.2.0\n"
          ]
        }
      ]
    },
    {
      "cell_type": "code",
      "metadata": {
        "id": "k6s5ZC0eGEbW",
        "colab": {
          "base_uri": "https://localhost:8080/"
        },
        "outputId": "94b86d0d-7661-49ef-cc24-fd2da7e6b4b6"
      },
      "source": [
        "%load_ext autoreload\n",
        "%autoreload 2\n",
        "# import standard libs\n",
        "from IPython.display import display\n",
        "from IPython.core.debugger import set_trace as bp\n",
        "from pathlib import PurePath, Path\n",
        "import sys\n",
        "import time\n",
        "import datetime as dt\n",
        "import multiprocessing as mp\n",
        "from datetime import datetime\n",
        "from collections import OrderedDict as od\n",
        "import re\n",
        "import os\n",
        "import json\n",
        "os.environ['THEANO_FLAGS'] = 'device=cpu,floatX=float32'\n",
        "\n",
        "# import python scientific stack\n",
        "import pandas as pd\n",
        "import pandas_datareader.data as web\n",
        "from pandas import Timestamp\n",
        "pd.set_option('display.max_rows', 100)\n",
        "from dask import dataframe as dd\n",
        "from dask.diagnostics import ProgressBar\n",
        "pbar = ProgressBar()\n",
        "pbar.register()\n",
        "import numpy as np\n",
        "import scipy.stats as stats\n",
        "import statsmodels.api as sm\n",
        "from numba import jit\n",
        "import math\n",
        "import pymc3 as pm\n",
        "from theano import shared, theano as tt\n",
        "from sklearn.utils import resample\n",
        "from sklearn.utils import shuffle\n",
        "from sklearn.tree import DecisionTreeClassifier\n",
        "from sklearn.ensemble import RandomForestClassifier, RandomForestRegressor, BaggingClassifier\n",
        "from sklearn.model_selection import train_test_split\n",
        "from sklearn.metrics import classification_report\n",
        "from sklearn.metrics import confusion_matrix\n",
        "from sklearn.metrics import accuracy_score\n",
        "from sklearn.metrics import roc_curve, auc\n",
        "\n",
        "from itertools import cycle\n",
        "from scipy import interp\n",
        "\n",
        "# import visual tools\n",
        "import matplotlib as mpl\n",
        "import matplotlib.pyplot as plt\n",
        "import matplotlib.gridspec as gridspec\n",
        "%matplotlib inline\n",
        "import seaborn as sns\n",
        "import plotly\n",
        "import plotly.graph_objects as go\n",
        "from plotly.subplots import make_subplots\n",
        "\n",
        "plt.style.use('seaborn-talk')\n",
        "plt.style.use('bmh')\n",
        "\n",
        "#plt.rcParams['font.family'] = 'DejaVu Sans Mono'\n",
        "#plt.rcParams['font.size'] = 9.5\n",
        "plt.rcParams['font.weight'] = 'medium'\n",
        "#plt.rcParams['figure.figsize'] = 10,7\n",
        "blue, green, red, purple, gold, teal = sns.color_palette('colorblind', 6)\n",
        "\n",
        "# import util libs\n",
        "import pyarrow as pa\n",
        "import pyarrow.parquet as pq\n",
        "from tqdm import tqdm, tqdm_notebook\n",
        "import warnings\n",
        "warnings.filterwarnings(\"ignore\")\n",
        "import missingno as msno\n",
        "from google.colab import drive"
      ],
      "execution_count": 12,
      "outputs": [
        {
          "output_type": "stream",
          "name": "stderr",
          "text": [
            "/usr/local/lib/python3.7/dist-packages/statsmodels/tools/_testing.py:19: FutureWarning: pandas.util.testing is deprecated. Use the functions in the public API at pandas.testing instead.\n",
            "  import pandas.util.testing as tm\n"
          ]
        }
      ]
    },
    {
      "cell_type": "markdown",
      "metadata": {
        "id": "ygEk0V7eYQji"
      },
      "source": [
        "# Defining Necessary Functions"
      ]
    },
    {
      "cell_type": "code",
      "metadata": {
        "id": "71Dz7QTUJANx"
      },
      "source": [
        "from datetime import datetime, timedelta\n",
        "\n",
        "#'close, high, low, open, time, vol'\n",
        "def get_dollar_bars(time_bars, dollar_threshold):\n",
        "\n",
        "    # initialize an empty list of dollar bars\n",
        "    dollar_bars = []\n",
        "\n",
        "    # initialize the running dollar volume at zero\n",
        "    running_volume = 0\n",
        "\n",
        "    # initialize the running high and low with placeholder values\n",
        "    running_high, running_low = 0, math.inf\n",
        "\n",
        "    # for each time bar...\n",
        "    for i in tqdm(range(len(time_bars))):\n",
        "\n",
        "        # get the timestamp, open, high, low, close, and volume of the next bar\n",
        "        next_close, next_high, next_low, next_open, next_timestamp, next_volume = time_bars['close'][i],time_bars['high'][i],time_bars['low'][i],time_bars['open'][i],time_bars.index[i],time_bars['volume'][i]\n",
        "\n",
        "        # get the midpoint price of the next bar (the average of the open and the close)\n",
        "        midpoint_price = ((next_open) + (next_close))/2\n",
        "\n",
        "        # get the approximate dollar volume of the bar using the volume and the midpoint price\n",
        "        dollar_volume = next_volume * midpoint_price\n",
        "\n",
        "        # update the running high and low\n",
        "        running_high, running_low = max(running_high, next_high), min(running_low, next_low)\n",
        "\n",
        "        # if the next bar's dollar volume would take us over the threshold...\n",
        "        if dollar_volume + running_volume >= dollar_threshold:\n",
        "\n",
        "            # set the timestamp for the dollar bar as the timestamp at which the bar closed (i.e. one minute after the timestamp of the last minutely bar included in the dollar bar)\n",
        "            bar_timestamp = next_timestamp + timedelta(minutes=1)\n",
        "            \n",
        "            # add a new dollar bar to the list of dollar bars with the timestamp, running high/low, and next close\n",
        "            dollar_bars += [{'timestamp': bar_timestamp, 'open': next_open, 'high': running_high, 'low': running_low, 'close': next_close}]\n",
        "\n",
        "            # reset the running volume to zero\n",
        "            running_volume = 0\n",
        "\n",
        "            # reset the running high and low to placeholder values\n",
        "            running_high, running_low = 0, math.inf\n",
        "\n",
        "        # otherwise, increment the running volume\n",
        "        else:\n",
        "            running_volume += dollar_volume\n",
        "\n",
        "    # return the list of dollar bars\n",
        "    return dollar_bars"
      ],
      "execution_count": 13,
      "outputs": []
    },
    {
      "cell_type": "code",
      "metadata": {
        "id": "d1sMKQFweckO"
      },
      "source": [
        "class MultiProcessingFunctions:\n",
        "\t\"\"\" This static functions in this class enable multi-processing\"\"\"\n",
        "\tdef __init__(self):\n",
        "\t\tpass\n",
        "\n",
        "\t@staticmethod\n",
        "\tdef lin_parts(num_atoms, num_threads):\n",
        "\t\t\"\"\" This function partitions a list of atoms in subsets (molecules) of equal size.\n",
        "\t\tAn atom is a set of indivisible set of tasks.\n",
        "\t\t\"\"\"\n",
        "\n",
        "\t\t# partition of atoms with a single loop\n",
        "\t\tparts = np.linspace(0, num_atoms, min(num_threads, num_atoms) + 1)\n",
        "\t\tparts = np.ceil(parts).astype(int)\n",
        "\t\treturn parts\n",
        "\n",
        "\t@staticmethod\n",
        "\tdef nested_parts(num_atoms, num_threads, upper_triangle=False):\n",
        "\t\t\"\"\" This function enables parallelization of nested loops.\n",
        "\t\t\"\"\"\n",
        "\t\t# partition of atoms with an inner loop\n",
        "\t\tparts = []\n",
        "\t\tnum_threads_ = min(num_threads, num_atoms)\n",
        "\n",
        "\t\tfor num in range(num_threads_):\n",
        "\t\t\tpart = 1 + 4 * (parts[-1] ** 2 + parts[-1] + num_atoms * (num_atoms + 1.) / num_threads_)\n",
        "\t\t\tpart = (-1 + part ** .5) / 2.\n",
        "\t\t\tparts.append(part)\n",
        "\n",
        "\t\tparts = np.round(parts).astype(int)\n",
        "\n",
        "\t\tif upper_triangle:  # the first rows are heaviest\n",
        "\t\t\tparts = np.cumsum(np.diff(parts)[::-1])\n",
        "\t\t\tparts = np.append(np.array([0]), parts)\n",
        "\t\treturn parts\n",
        "\n",
        "\t@staticmethod\n",
        "\tdef mp_pandas_obj(func, pd_obj, num_threads=24, mp_batches=1, lin_mols=True, **kargs):\n",
        "\t\t\"\"\"\t\n",
        "\t\t:param func: (string) function to be parallelized\n",
        "\t\t:param pd_obj: (vector) Element 0, is name of argument used to pass the molecule;\n",
        "\t\t\t\t\t\tElement 1, is the list of atoms to be grouped into a molecule\n",
        "\t\t:param num_threads: (int) number of threads\n",
        "\t\t:param mp_batches: (int) number of batches\n",
        "\t\t:param lin_mols: (bool) Tells if the method should use linear or nested partitioning\n",
        "\t\t:param kargs: (var args)\n",
        "\t\t:return: (data frame) of results\n",
        "\t\t\"\"\"\n",
        "\n",
        "\t\tif lin_mols:\n",
        "\t\t\tparts = MultiProcessingFunctions.lin_parts(len(pd_obj[1]), num_threads * mp_batches)\n",
        "\t\telse:\n",
        "\t\t\tparts = MultiProcessingFunctions.nested_parts(len(pd_obj[1]), num_threads * mp_batches)\n",
        "\n",
        "\t\tjobs = []\n",
        "\t\tfor i in range(1, len(parts)):\n",
        "\t\t\tjob = {pd_obj[0]: pd_obj[1][parts[i - 1]:parts[i]], 'func': func}\n",
        "\t\t\tjob.update(kargs)\n",
        "\t\t\tjobs.append(job)\n",
        "\n",
        "\t\tif num_threads == 1:\n",
        "\t\t\tout = MultiProcessingFunctions.process_jobs_(jobs)\n",
        "\t\telse:\n",
        "\t\t\tout = MultiProcessingFunctions.process_jobs(jobs, num_threads=num_threads)\n",
        "\n",
        "\t\tif isinstance(out[0], pd.DataFrame):\n",
        "\t\t\tdf0 = pd.DataFrame()\n",
        "\t\telif isinstance(out[0], pd.Series):\n",
        "\t\t\tdf0 = pd.Series()\n",
        "\t\telse:\n",
        "\t\t\treturn out\n",
        "\n",
        "\t\tfor i in out:\n",
        "\t\t\tdf0 = df0.append(i)\n",
        "\n",
        "\t\tdf0 = df0.sort_index()\n",
        "\t\treturn df0\n",
        "\n",
        "\t@staticmethod\n",
        "\tdef process_jobs_(jobs):\n",
        "\t\t\"\"\" Run jobs sequentially, for debugging \"\"\"\n",
        "\t\tout = []\n",
        "\t\tfor job in jobs:\n",
        "\t\t\tout_ = MultiProcessingFunctions.expand_call(job)\n",
        "\t\t\tout.append(out_)\n",
        "\t\treturn out\n",
        "\n",
        "\t@staticmethod\n",
        "\tdef expand_call(kargs):\n",
        "\t\t\"\"\" Expand the arguments of a callback function, kargs['func'] \"\"\"\n",
        "\t\tfunc = kargs['func']\n",
        "\t\tdel kargs['func']\n",
        "\t\tout = func(**kargs)\n",
        "\t\treturn out\n",
        "\n",
        "\t@staticmethod\n",
        "\tdef report_progress(job_num, num_jobs, time0, task):\n",
        "\t\t# Report progress as asynch jobs are completed\n",
        "\n",
        "\t\tmsg = [float(job_num) / num_jobs, (time.time() - time0)/60.]\n",
        "\t\tmsg.append(msg[1] * (1/msg[0] - 1))\n",
        "\t\ttime_stamp = str(dt.datetime.fromtimestamp(time.time()))\n",
        "\n",
        "\t\tmsg = time_stamp + ' ' + str(round(msg[0]*100, 2)) + '% '+task+' done after ' + \\\n",
        "\t\t\tstr(round(msg[1], 2)) + ' minutes. Remaining ' + str(round(msg[2], 2)) + ' minutes.'\n",
        "\n",
        "\t\tif job_num < num_jobs:\n",
        "\t\t\tsys.stderr.write(msg+'\\r')\n",
        "\t\telse:\n",
        "\t\t\tsys.stderr.write(msg+'\\n')\n",
        "\n",
        "\t\treturn\n",
        "\n",
        "\t@staticmethod\n",
        "\tdef process_jobs(jobs, task=None, num_threads=24):\n",
        "\t\t\"\"\" Run in parallel. jobs must contain a 'func' callback, for expand_call\"\"\"\n",
        "\n",
        "\t\tif task is None:\n",
        "\t\t\ttask = jobs[0]['func'].__name__\n",
        "\n",
        "\t\tpool = mp.Pool(processes=num_threads)\n",
        "\t\t# outputs, out, time0 = pool.imap_unordered(MultiProcessingFunctions.expand_call,jobs),[],time.time()\n",
        "\t\toutputs = pool.imap_unordered(MultiProcessingFunctions.expand_call, jobs)\n",
        "\t\tout = []\n",
        "\t\ttime0 = time.time()\n",
        "\n",
        "\t\t# Process asyn output, report progress\n",
        "\t\tfor i, out_ in enumerate(outputs, 1):\n",
        "\t\t\tout.append(out_)\n",
        "\t\t\tMultiProcessingFunctions.report_progress(i, len(jobs), time0, task)\n",
        "\n",
        "\t\tpool.close()\n",
        "\t\tpool.join()  # this is needed to prevent memory leaks\n",
        "\t\treturn out"
      ],
      "execution_count": 14,
      "outputs": []
    },
    {
      "cell_type": "code",
      "metadata": {
        "id": "q9oyhWgHJbpa"
      },
      "source": [
        "def get_daily_vol(close, lookback=100):\n",
        "    \"\"\"\n",
        "    :param close: (data frame) Closing prices\n",
        "    :param lookback: (int) lookback period to compute volatility\n",
        "    :return: (series) of daily volatility value\n",
        "    \"\"\"\n",
        "    print('Calculating daily volatility for dynamic thresholds')\n",
        "    \n",
        "    df0 = close.index.searchsorted(close.index - pd.Timedelta(days=1))\n",
        "    df0 = df0[df0 > 0]\n",
        "    df0 = (pd.Series(close.index[df0 - 1], index=close.index[close.shape[0] - df0.shape[0]:]))\n",
        "        \n",
        "    df0 = close.loc[df0.index] / close.loc[df0.values].values - 1  # daily returns\n",
        "    df0 = df0.ewm(span=lookback).std()\n",
        "    return df0"
      ],
      "execution_count": 15,
      "outputs": []
    },
    {
      "cell_type": "code",
      "metadata": {
        "id": "zBxg-p1kW3Kn"
      },
      "source": [
        "def get_t_events(raw_price, threshold):\n",
        "    \"\"\"\n",
        "    :param raw_price: (series) of close prices.\n",
        "    :param threshold: (float) when the abs(change) is larger than the threshold, the\n",
        "    function captures it as an event.\n",
        "    :return: (datetime index vector) vector of datetimes when the events occurred. This is used later to sample.\n",
        "    \"\"\"\n",
        "    print('Applying Symmetric CUSUM filter.')\n",
        "\n",
        "    t_events = []\n",
        "    s_pos = 0\n",
        "    s_neg = 0\n",
        "\n",
        "    # log returns\n",
        "    diff = np.log(raw_price).diff().dropna()\n",
        "\n",
        "    # Get event time stamps for the entire series\n",
        "    for i in tqdm(diff.index[1:]):\n",
        "        pos = float(s_pos + diff.loc[i])\n",
        "        neg = float(s_neg + diff.loc[i])\n",
        "        s_pos = max(0.0, pos)\n",
        "        s_neg = min(0.0, neg)\n",
        "\n",
        "        if s_neg < -threshold:\n",
        "            s_neg = 0\n",
        "            t_events.append(i)\n",
        "\n",
        "        elif s_pos > threshold:\n",
        "            s_pos = 0\n",
        "            t_events.append(i)\n",
        "\n",
        "    event_timestamps = pd.DatetimeIndex(t_events)\n",
        "    return event_timestamps"
      ],
      "execution_count": 16,
      "outputs": []
    },
    {
      "cell_type": "code",
      "metadata": {
        "id": "mAtItBi7HxbI"
      },
      "source": [
        "def add_vertical_barrier(t_events, close, num_days=1):\n",
        "    \"\"\"\n",
        "    :param t_events: (series) series of events (symmetric CUSUM filter)\n",
        "    :param close: (series) close prices\n",
        "    :param num_days: (int) maximum number of days a trade can be active\n",
        "    :return: (series) timestamps of vertical barriers\n",
        "    \"\"\"\n",
        "    t1 = close.index.searchsorted(t_events + pd.Timedelta(days=num_days))\n",
        "    t1 = t1[t1 < close.shape[0]]\n",
        "    t1 = pd.Series(close.index[t1], index=t_events[:t1.shape[0]])  # NaNs at end\n",
        "    return t1"
      ],
      "execution_count": 17,
      "outputs": []
    },
    {
      "cell_type": "code",
      "metadata": {
        "id": "o9hqLRGbH1Og"
      },
      "source": [
        "def apply_pt_sl_on_t1(close, events, pt_sl, molecule):\n",
        "    \"\"\"\n",
        "    :param close: (series) close prices\n",
        "    :param events: (series) of indices that signify \"events\" \n",
        "    :param pt_sl: (array) element 0, indicates the profit taking level; \n",
        "                          element 1 is stop loss level\n",
        "    :param molecule: (an array) a set of datetime index values for processing\n",
        "    :return: (dataframe) timestamps at which each barrier was touched\n",
        "    \"\"\"\n",
        "    # apply stop loss/profit taking, if it takes place before t1 (end of event)\n",
        "    events_ = events.loc[molecule]\n",
        "    out = events_[['t1']].copy(deep=True)\n",
        "    if pt_sl[0] > 0:\n",
        "        pt = pt_sl[0] * events_['trgt']\n",
        "    else:\n",
        "        pt = pd.Series(index=events.index)  # NaNs\n",
        "\n",
        "    if pt_sl[1] > 0:\n",
        "        sl = -pt_sl[1] * events_['trgt']\n",
        "    else:\n",
        "        sl = pd.Series(index=events.index)  # NaNs\n",
        "\n",
        "    for loc, t1 in events_['t1'].fillna(close.index[-1]).iteritems():\n",
        "        df0 = close[loc:t1]  # path prices\n",
        "        df0 = (df0 / close[loc] - 1) * events_.at[loc, 'side']  # path returns\n",
        "        out.loc[loc, 'sl'] = df0[df0 < sl[loc]].index.min()  # earliest stop loss\n",
        "        out.loc[loc, 'pt'] = df0[df0 > pt[loc]].index.min()  # earliest profit taking\n",
        "\n",
        "    return out"
      ],
      "execution_count": 18,
      "outputs": []
    },
    {
      "cell_type": "code",
      "metadata": {
        "id": "DfSf2AXdH4uL"
      },
      "source": [
        "def get_events(close, t_events, pt_sl, target, min_ret, num_threads, \n",
        "              vertical_barrier_times=False, side=None):\n",
        "    \"\"\"\n",
        "    :param close: (series) Close prices\n",
        "    :param t_events: (series) of t_events. \n",
        "                     These are timestamps that will seed every triple barrier.\n",
        "    :param pt_sl: (2 element array) element 0, indicates the profit taking level; \n",
        "                  element 1 is stop loss level.\n",
        "                  A non-negative float that sets the width of the two barriers. \n",
        "                  A 0 value means that the respective horizontal barrier will be disabled.\n",
        "    :param target: (series) of values that are used (in conjunction with pt_sl)\n",
        "                   to determine the width of the barrier.\n",
        "    :param min_ret: (float) The minimum target return required for running a triple barrier search.\n",
        "    :param num_threads: (int) The number of threads concurrently used by the function.\n",
        "    :param vertical_barrier_times: (series) A pandas series with the timestamps of the vertical barriers.\n",
        "    :param side: (series) Side of the bet (long/short) as decided by the primary model\n",
        "    :return: (data frame) of events\n",
        "            -events.index is event's starttime\n",
        "            -events['t1'] is event's endtime\n",
        "            -events['trgt'] is event's target\n",
        "            -events['side'] (optional) implies the algo's position side\n",
        "    \"\"\"\n",
        "\n",
        "    # 1) Get target\n",
        "    target = target.loc[target.index.intersection(t_events)]\n",
        "    target = target[target > min_ret]  # min_ret\n",
        "\n",
        "    # 2) Get vertical barrier (max holding period)\n",
        "    if vertical_barrier_times is False:\n",
        "        vertical_barrier_times = pd.Series(pd.NaT, index=t_events)\n",
        "\n",
        "    # 3) Form events object, apply stop loss on vertical barrier\n",
        "    if side is None:\n",
        "        side_ = pd.Series(1., index=target.index)\n",
        "        pt_sl_ = [pt_sl[0], pt_sl[0]]\n",
        "    else:\n",
        "        side_ = side.loc[target.index]\n",
        "        pt_sl_ = pt_sl[:2]\n",
        "\n",
        "    events = pd.concat({'t1': vertical_barrier_times, 'trgt': target, 'side': side_},\n",
        "                        axis=1)\n",
        "    events = events.dropna(subset=['trgt'])\n",
        "\n",
        "    # Apply Triple Barrier\n",
        "    df0 = MultiProcessingFunctions.mp_pandas_obj(func=apply_pt_sl_on_t1,\n",
        "                                                 pd_obj=('molecule', events.index),\n",
        "                                                 num_threads=num_threads,\n",
        "                                                 close=close,\n",
        "                                                 events=events,\n",
        "                                                 pt_sl=pt_sl_)\n",
        "\n",
        "    events['t1'] = df0.dropna(how='all').min(axis=1)  # pd.min ignores nan\n",
        "\n",
        "    if side is None:\n",
        "        events = events.drop('side', axis=1)\n",
        "\n",
        "    return events"
      ],
      "execution_count": 19,
      "outputs": []
    },
    {
      "cell_type": "code",
      "metadata": {
        "id": "pwgOeAKfmomo"
      },
      "source": [
        "def barrier_touched(out_df):\n",
        "    \"\"\"\n",
        "    :param out_df: (DataFrame) containing the returns and target\n",
        "    :return: (DataFrame) containing returns, target, and labels\n",
        "    \"\"\"\n",
        "    store = []\n",
        "    for i in np.arange(len(out_df)):\n",
        "        date_time = out_df.index[i]\n",
        "        ret = out_df.loc[date_time, 'ret']\n",
        "        target = out_df.loc[date_time, 'trgt']\n",
        "\n",
        "        if ret > 0.0 and ret > target:\n",
        "            # Top barrier reached\n",
        "            store.append(1)\n",
        "        elif ret < 0.0 and ret < -target:\n",
        "            # Bottom barrier reached\n",
        "            store.append(-1)\n",
        "        else:\n",
        "            # Vertical barrier reached\n",
        "            store.append(0)\n",
        "\n",
        "    out_df['bin'] = store\n",
        "\n",
        "    return out_df"
      ],
      "execution_count": 20,
      "outputs": []
    },
    {
      "cell_type": "code",
      "metadata": {
        "id": "G93v7IztYsLi"
      },
      "source": [
        "def get_bins(triple_barrier_events, close):\n",
        "    \"\"\"\n",
        "    :param triple_barrier_events: (data frame)\n",
        "                -events.index is event's starttime\n",
        "                -events['t1'] is event's endtime\n",
        "                -events['trgt'] is event's target\n",
        "                -events['side'] (optional) implies the algo's position side\n",
        "                Case 1: ('side' not in events): bin in (-1,1) <-label by price action\n",
        "                Case 2: ('side' in events): bin in (0,1) <-label by pnl (meta-labeling)\n",
        "    :param close: (series) close prices\n",
        "    :return: (data frame) of meta-labeled events\n",
        "    \"\"\"\n",
        "\n",
        "    # 1) Align prices with their respective events\n",
        "    events_ = triple_barrier_events.dropna(subset=['t1'])\n",
        "    prices = events_.index.union(events_['t1'].values)\n",
        "    prices = prices.drop_duplicates()\n",
        "    prices = close.reindex(prices, method='bfill')\n",
        "    \n",
        "    # 2) Create out DataFrame\n",
        "    out_df = pd.DataFrame(index=events_.index)\n",
        "    # Need to take the log returns, else your results will be skewed for short positions\n",
        "    out_df['ret'] = np.log(prices.loc[events_['t1'].values].values) - np.log(prices.loc[events_.index])\n",
        "    out_df['trgt'] = events_['trgt']\n",
        "\n",
        "    # Meta labeling: Events that were correct will have pos returns\n",
        "    if 'side' in events_:\n",
        "        out_df['ret'] = out_df['ret'] * events_['side']  # meta-labeling\n",
        "\n",
        "    # Added code: label 0 when vertical barrier reached\n",
        "    out_df = barrier_touched(out_df)\n",
        "\n",
        "    # Meta labeling: label incorrect events with a 0\n",
        "    if 'side' in events_:\n",
        "        out_df.loc[out_df['ret'] <= 0, 'bin'] = 0\n",
        "    \n",
        "    # Transform the log returns back to normal returns.\n",
        "    out_df['ret'] = np.exp(out_df['ret']) - 1\n",
        "    \n",
        "    # Add the side to the output. This is useful for when a meta label model must be fit\n",
        "    tb_cols = triple_barrier_events.columns\n",
        "    if 'side' in tb_cols:\n",
        "        out_df['side'] = triple_barrier_events['side']\n",
        "        \n",
        "    out_df\n",
        "\n",
        "    return out_df"
      ],
      "execution_count": 21,
      "outputs": []
    },
    {
      "cell_type": "code",
      "metadata": {
        "id": "hu4YussRQ7XJ"
      },
      "source": [
        "def bbands(close_prices, window, no_of_stdev):\n",
        "    # rolling_mean = close_prices.rolling(window=window).mean()\n",
        "    # rolling_std = close_prices.rolling(window=window).std()\n",
        "    rolling_mean = close_prices.ewm(span=window).mean()\n",
        "    rolling_std = close_prices.ewm(span=window).std()\n",
        "\n",
        "    upper_band = rolling_mean + (rolling_std * no_of_stdev)\n",
        "    lower_band = rolling_mean - (rolling_std * no_of_stdev)\n",
        "\n",
        "    return rolling_mean, upper_band, lower_band"
      ],
      "execution_count": 22,
      "outputs": []
    },
    {
      "cell_type": "markdown",
      "metadata": {
        "id": "lB-CuBIffyGf"
      },
      "source": [
        "# Implementation"
      ]
    },
    {
      "cell_type": "markdown",
      "metadata": {
        "id": "jrExdiM6YZU9"
      },
      "source": [
        "Import and Format Data"
      ]
    },
    {
      "cell_type": "code",
      "metadata": {
        "id": "fNTatyHAdiY_",
        "outputId": "9eb14891-664c-4b92-92e1-9027011e1e78",
        "colab": {
          "base_uri": "https://localhost:8080/"
        }
      },
      "source": [
        "# mount personal drive\n",
        "drive.mount('/content/drive')"
      ],
      "execution_count": 23,
      "outputs": [
        {
          "output_type": "stream",
          "name": "stdout",
          "text": [
            "Mounted at /content/drive\n"
          ]
        }
      ]
    },
    {
      "cell_type": "code",
      "metadata": {
        "id": "YqY4uS7b7tjI"
      },
      "source": [
        "import pandas as pd\n",
        "import pyarrow as pa\n",
        "import pyarrow.parquet as pq\n",
        "\n",
        "csv_file = '/content/drive/MyDrive/BTCUSD_1min.csv'\n"
      ],
      "execution_count": 24,
      "outputs": []
    },
    {
      "cell_type": "code",
      "metadata": {
        "id": "adetnbDaAPED"
      },
      "source": [
        ""
      ],
      "execution_count": 25,
      "outputs": []
    },
    {
      "cell_type": "code",
      "metadata": {
        "colab": {
          "base_uri": "https://localhost:8080/"
        },
        "id": "dFjdBgm_Xj9n",
        "outputId": "7e0d3b34-b3b4-4494-a084-30038582ac1d"
      },
      "source": [
        "#download the data into your google drive to use the following code\n",
        "infp=PurePath('/content/drive/MyDrive/BTC_1m_2018_dollar.parq')\n",
        "\n",
        "#import data and set timestamps as index\n",
        "data = pd.read_parquet(infp)   \n",
        "data['timestamp']= pd.to_datetime((data['timestamp']).astype(float), unit='ms')\n",
        "data = data.set_index('timestamp')\n",
        "\n",
        "print(data.info())\n",
        "print(data.head())"
      ],
      "execution_count": 26,
      "outputs": [
        {
          "output_type": "stream",
          "name": "stdout",
          "text": [
            "<class 'pandas.core.frame.DataFrame'>\n",
            "DatetimeIndex: 200320 entries, 2018-08-03 00:03:00.060000 to 2020-08-02 23:58:00.060000\n",
            "Data columns (total 4 columns):\n",
            " #   Column  Non-Null Count   Dtype  \n",
            "---  ------  --------------   -----  \n",
            " 0   open    200320 non-null  float64\n",
            " 1   high    200320 non-null  float64\n",
            " 2   low     200320 non-null  float64\n",
            " 3   close   200320 non-null  float64\n",
            "dtypes: float64(4)\n",
            "memory usage: 7.6 MB\n",
            "None\n",
            "                            open     high      low    close\n",
            "timestamp                                                  \n",
            "2018-08-03 00:03:00.060  7515.94  7528.91  7505.64  7512.90\n",
            "2018-08-03 00:07:00.060  7506.27  7512.90  7487.00  7487.52\n",
            "2018-08-03 00:11:00.060  7487.99  7505.25  7480.72  7484.42\n",
            "2018-08-03 00:17:00.060  7486.62  7502.64  7480.01  7490.92\n",
            "2018-08-03 00:23:00.060  7494.43  7503.02  7485.00  7487.00\n"
          ]
        }
      ]
    },
    {
      "cell_type": "code",
      "metadata": {
        "id": "L7AdSGuG8GJk",
        "outputId": "495c8019-46bf-4ebb-efab-576fa97c7e59",
        "colab": {
          "base_uri": "https://localhost:8080/"
        }
      },
      "source": [
        "infpBIG=PurePath('/content/drive/MyDrive/BTCUSD_1min.csv')\n",
        "dataBIG = pd.read_csv(infpBIG)\n",
        "dataBIG.rename(columns={\"Unix Timestamp\": \"timestamp\", \"Open\": \"open\", \"Low\": \"low\", \"Close\": \"close\", \"High\": \"high\", \"Volume\": \"volume\"},inplace=True)\n",
        "#dataBIG.drop('Volume',1, inplace=True)\n",
        "dataBIG.drop('Date',1, inplace=True)\n",
        "dataBIG.drop('Symbol',1, inplace=True)\n",
        "dataBIG['timestamp'] = pd.to_datetime((dataBIG[\"timestamp\"]).astype(float),unit='ms')\n",
        "dataBIG = dataBIG.set_index('timestamp')\n",
        "print(dataBIG.info())\n",
        "print(dataBIG.head())"
      ],
      "execution_count": 27,
      "outputs": [
        {
          "output_type": "stream",
          "name": "stdout",
          "text": [
            "<class 'pandas.core.frame.DataFrame'>\n",
            "DatetimeIndex: 2283519 entries, 2020-04-09 00:00:00 to 1970-01-17 17:11:51.600000\n",
            "Data columns (total 5 columns):\n",
            " #   Column  Dtype  \n",
            "---  ------  -----  \n",
            " 0   open    float64\n",
            " 1   high    float64\n",
            " 2   low     float64\n",
            " 3   close   float64\n",
            " 4   volume  float64\n",
            "dtypes: float64(5)\n",
            "memory usage: 104.5 MB\n",
            "None\n",
            "                        open     high      low    close    volume\n",
            "timestamp                                                        \n",
            "2020-04-09 00:00:00  7369.60  7369.60  7348.47  7350.41  7.733528\n",
            "2020-04-08 23:59:00  7364.37  7369.60  7364.37  7369.60  1.310954\n",
            "2020-04-08 23:58:00  7360.89  7367.18  7360.89  7364.37  1.018774\n",
            "2020-04-08 23:57:00  7357.62  7366.12  7357.62  7360.89  0.026251\n",
            "2020-04-08 23:56:00  7370.71  7370.71  7357.62  7357.62  0.444867\n"
          ]
        }
      ]
    },
    {
      "cell_type": "code",
      "metadata": {
        "id": "aQWqGYC_DYzT",
        "outputId": "a9dd9920-3374-433c-bce2-e5c34cb9d499",
        "colab": {
          "base_uri": "https://localhost:8080/"
        }
      },
      "source": [
        "dataBIGDB = get_dollar_bars(dataBIG,50000)\n"
      ],
      "execution_count": null,
      "outputs": [
        {
          "output_type": "stream",
          "name": "stderr",
          "text": [
            "  2%|▏         | 51094/2283519 [00:02<01:44, 21366.00it/s]"
          ]
        }
      ]
    },
    {
      "cell_type": "code",
      "metadata": {
        "id": "AnutB-mjNSgj"
      },
      "source": [
        "df = pd.DataFrame(dataBIGDB)\n",
        "df.to_csv('/content/drive/MyDrive/BTCUSD_DB_50000.csv')"
      ],
      "execution_count": null,
      "outputs": []
    },
    {
      "cell_type": "code",
      "metadata": {
        "id": "djxz_Pp6N8am"
      },
      "source": [
        "fig = go.Figure(data=[go.Candlestick(x=df.timestamp,\n",
        "                     open=df.open, high=df.high,\n",
        "                     low=df.low, close=df.close)])\n",
        "fig.show()"
      ],
      "execution_count": null,
      "outputs": []
    },
    {
      "cell_type": "markdown",
      "metadata": {
        "id": "6xoxuSywYc0r"
      },
      "source": [
        "Create Primary Bollinger Band Model"
      ]
    },
    {
      "cell_type": "code",
      "metadata": {
        "colab": {
          "base_uri": "https://localhost:8080/"
        },
        "id": "VQUBffSDY1YF",
        "outputId": "b7408425-c99b-44ed-fe4e-45ceefef4622"
      },
      "source": [
        "# compute bands\n",
        "window = 50\n",
        "data['avg'], data['upper'], data['lower'] = bbands(data['close'],window, no_of_stdev=1.5)\n",
        "# compute sides\n",
        "data['side'] = np.nan\n",
        "long_signals = (data['close'] <= data['lower'])\n",
        "short_signals = (data['close'] >= data['upper'])\n",
        "data.loc[long_signals, 'side'] = 1\n",
        "data.loc[short_signals, 'side'] = -1\n",
        "\n",
        "print(data.side.value_counts())\n",
        "\n",
        "# Remove Look ahead biase by lagging the signal\n",
        "data['side'] = data['side'].shift(1)\n",
        "\n",
        "# Drop the NaN values from our data set\n",
        "data.dropna(axis=0, how='any', inplace=True)  "
      ],
      "execution_count": 126,
      "outputs": [
        {
          "output_type": "stream",
          "name": "stdout",
          "text": [
            " 1.0    122118\n",
            "-1.0     97860\n",
            "Name: side, dtype: int64\n"
          ]
        }
      ]
    },
    {
      "cell_type": "markdown",
      "metadata": {
        "id": "f4nxfl1mY5ww"
      },
      "source": [
        "Implement Triple Barriers"
      ]
    },
    {
      "cell_type": "code",
      "metadata": {
        "colab": {
          "base_uri": "https://localhost:8080/"
        },
        "id": "o6DgofNjYzky",
        "outputId": "53111046-e89b-4b87-d79f-8fc991ea3e4f"
      },
      "source": [
        "close = data['close']\n",
        "\n",
        "# determining daily volatility using the last 50 days\n",
        "daily_vol = get_daily_vol(close=close, lookback=50)\n",
        "\n",
        "# creating our event triggers using the CUSUM filter \n",
        "cusum_events = get_t_events(close, threshold=daily_vol.mean()*0.1)\n",
        "\n",
        "# adding vertical barriers with a half day expiration window\n",
        "vertical_barriers = add_vertical_barrier(t_events=cusum_events,\n",
        "                                         close=close, num_days=0.5)\n",
        "\n",
        "# determining timestamps of first touch   \n",
        "\n",
        "pt_sl = [1, 2] # setting profit-take and stop-loss at 1% and 2%\n",
        "min_ret = 0.0005 # setting a minimum return of 0.05%\n",
        "\n",
        "triple_barrier_events = get_events(close=close,\n",
        "                                  t_events=cusum_events,\n",
        "                                  pt_sl=pt_sl,\n",
        "                                  target=daily_vol,\n",
        "                                  min_ret=min_ret,\n",
        "                                  num_threads=2,\n",
        "                                  vertical_barrier_times=vertical_barriers,\n",
        "                                  side=data['side'])"
      ],
      "execution_count": 99,
      "outputs": [
        {
          "output_type": "stream",
          "name": "stdout",
          "text": [
            "Calculating daily volatility for dynamic thresholds\n",
            "Applying Symmetric CUSUM filter.\n"
          ]
        },
        {
          "output_type": "stream",
          "name": "stderr",
          "text": [
            "100%|██████████| 253171/253171 [00:13<00:00, 18383.78it/s]\n",
            "2021-11-23 00:05:04.566738 100.0% apply_pt_sl_on_t1 done after 0.18 minutes. Remaining 0.0 minutes.\n"
          ]
        }
      ]
    },
    {
      "cell_type": "code",
      "metadata": {
        "colab": {
          "base_uri": "https://localhost:8080/"
        },
        "id": "nNCJe6qeY-Ve",
        "outputId": "4d1ea7b9-646b-4d4a-a926-fbce7cce4569"
      },
      "source": [
        "# determining timestamps of first touch   \n",
        "\n",
        "pt_sl = [1, 2] # setting profit-take and stop-loss at 1% and 2%\n",
        "min_ret = 0.0005 # setting a minimum return of 0.05%\n",
        "\n",
        "triple_barrier_events = get_events(close=close,\n",
        "                                  t_events=cusum_events,\n",
        "                                  pt_sl=pt_sl,\n",
        "                                  target=daily_vol,\n",
        "                                  min_ret=min_ret,\n",
        "                                  num_threads=2,\n",
        "                                  vertical_barrier_times=vertical_barriers,\n",
        "                                  side=data['side'])\n"
      ],
      "execution_count": 100,
      "outputs": [
        {
          "output_type": "stream",
          "name": "stderr",
          "text": [
            "2021-11-23 00:05:14.055091 50.0% apply_pt_sl_on_t1 done after 0.15 minutes. Remaining 0.15 minutes.\r2021-11-23 00:05:15.271173 100.0% apply_pt_sl_on_t1 done after 0.17 minutes. Remaining 0.0 minutes.\n"
          ]
        }
      ]
    },
    {
      "cell_type": "code",
      "metadata": {
        "id": "jQhQaRT-e5K_"
      },
      "source": [
        ""
      ],
      "execution_count": 100,
      "outputs": []
    },
    {
      "cell_type": "markdown",
      "metadata": {
        "id": "a2IQeQ_kQ1kh"
      },
      "source": [
        "Add Labels"
      ]
    },
    {
      "cell_type": "code",
      "metadata": {
        "colab": {
          "base_uri": "https://localhost:8080/"
        },
        "id": "LWMSJt9VZBJa",
        "outputId": "a910d598-b96e-4de5-ef90-698bf3d4ab4a"
      },
      "source": [
        "labels = get_bins(triple_barrier_events, data['close'])\n",
        "labels.side.value_counts()  "
      ],
      "execution_count": 101,
      "outputs": [
        {
          "output_type": "execute_result",
          "data": {
            "text/plain": [
              " 1.0    2730\n",
              "-1.0    1945\n",
              "Name: side, dtype: int64"
            ]
          },
          "metadata": {},
          "execution_count": 101
        }
      ]
    },
    {
      "cell_type": "code",
      "metadata": {
        "id": "pLkUok2--k98",
        "outputId": "0e15abea-074b-48fb-c53b-fd76ec1e12ee",
        "colab": {
          "base_uri": "https://localhost:8080/",
          "height": 204
        }
      },
      "source": [
        "labels.head()"
      ],
      "execution_count": 102,
      "outputs": [
        {
          "output_type": "execute_result",
          "data": {
            "text/html": [
              "<div>\n",
              "<style scoped>\n",
              "    .dataframe tbody tr th:only-of-type {\n",
              "        vertical-align: middle;\n",
              "    }\n",
              "\n",
              "    .dataframe tbody tr th {\n",
              "        vertical-align: top;\n",
              "    }\n",
              "\n",
              "    .dataframe thead th {\n",
              "        text-align: right;\n",
              "    }\n",
              "</style>\n",
              "<table border=\"1\" class=\"dataframe\">\n",
              "  <thead>\n",
              "    <tr style=\"text-align: right;\">\n",
              "      <th></th>\n",
              "      <th>ret</th>\n",
              "      <th>trgt</th>\n",
              "      <th>bin</th>\n",
              "      <th>side</th>\n",
              "    </tr>\n",
              "  </thead>\n",
              "  <tbody>\n",
              "    <tr>\n",
              "      <th>1970-01-17 17:50:34.380</th>\n",
              "      <td>0.430751</td>\n",
              "      <td>0.021315</td>\n",
              "      <td>1</td>\n",
              "      <td>-1.0</td>\n",
              "    </tr>\n",
              "    <tr>\n",
              "      <th>1970-01-17 17:50:34.800</th>\n",
              "      <td>0.461966</td>\n",
              "      <td>0.020840</td>\n",
              "      <td>1</td>\n",
              "      <td>-1.0</td>\n",
              "    </tr>\n",
              "    <tr>\n",
              "      <th>1970-01-17 17:50:35.220</th>\n",
              "      <td>0.469786</td>\n",
              "      <td>0.022850</td>\n",
              "      <td>1</td>\n",
              "      <td>-1.0</td>\n",
              "    </tr>\n",
              "    <tr>\n",
              "      <th>1970-01-17 17:50:36.000</th>\n",
              "      <td>0.465399</td>\n",
              "      <td>0.023339</td>\n",
              "      <td>1</td>\n",
              "      <td>-1.0</td>\n",
              "    </tr>\n",
              "    <tr>\n",
              "      <th>1970-01-17 17:50:36.180</th>\n",
              "      <td>0.494008</td>\n",
              "      <td>0.023982</td>\n",
              "      <td>1</td>\n",
              "      <td>-1.0</td>\n",
              "    </tr>\n",
              "  </tbody>\n",
              "</table>\n",
              "</div>"
            ],
            "text/plain": [
              "                              ret      trgt  bin  side\n",
              "1970-01-17 17:50:34.380  0.430751  0.021315    1  -1.0\n",
              "1970-01-17 17:50:34.800  0.461966  0.020840    1  -1.0\n",
              "1970-01-17 17:50:35.220  0.469786  0.022850    1  -1.0\n",
              "1970-01-17 17:50:36.000  0.465399  0.023339    1  -1.0\n",
              "1970-01-17 17:50:36.180  0.494008  0.023982    1  -1.0"
            ]
          },
          "metadata": {},
          "execution_count": 102
        }
      ]
    },
    {
      "cell_type": "markdown",
      "metadata": {
        "id": "XrxoOuyTQ3V8"
      },
      "source": [
        "Evaluating Primary Model"
      ]
    },
    {
      "cell_type": "code",
      "metadata": {
        "colab": {
          "base_uri": "https://localhost:8080/"
        },
        "id": "z3VDEJJMZV1t",
        "outputId": "f778443e-4575-4bfe-fd6d-11fb4c723340"
      },
      "source": [
        "# creating dataframe of only bin labels\n",
        "primary_forecast = pd.DataFrame(labels['bin'])\n",
        "\n",
        "# setting predicted column to 1 \n",
        "primary_forecast['pred'] = 1\n",
        "primary_forecast.columns = ['actual', 'pred']\n",
        "\n",
        "# Performance Metrics\n",
        "actual = primary_forecast['actual']\n",
        "pred = primary_forecast['pred']\n",
        "print(classification_report(y_true=actual, y_pred=pred))\n",
        "\n",
        "print(\"Confusion Matrix\")\n",
        "print(confusion_matrix(actual, pred))\n",
        "\n",
        "print('')\n",
        "print(\"Accuracy\")\n",
        "print(accuracy_score(actual, pred))\n"
      ],
      "execution_count": 103,
      "outputs": [
        {
          "output_type": "stream",
          "name": "stdout",
          "text": [
            "              precision    recall  f1-score   support\n",
            "\n",
            "           0       0.00      0.00      0.00      2727\n",
            "           1       0.42      1.00      0.59      1948\n",
            "\n",
            "    accuracy                           0.42      4675\n",
            "   macro avg       0.21      0.50      0.29      4675\n",
            "weighted avg       0.17      0.42      0.25      4675\n",
            "\n",
            "Confusion Matrix\n",
            "[[   0 2727]\n",
            " [   0 1948]]\n",
            "\n",
            "Accuracy\n",
            "0.41668449197860963\n"
          ]
        }
      ]
    },
    {
      "cell_type": "code",
      "metadata": {
        "colab": {
          "base_uri": "https://localhost:8080/",
          "height": 419
        },
        "id": "_npquZde9-TZ",
        "outputId": "190a7365-8260-43ee-8c01-650f6e4e9267"
      },
      "source": [
        "primary_forecast = pd.DataFrame(labels['bin'])\n",
        "primary_forecast"
      ],
      "execution_count": 104,
      "outputs": [
        {
          "output_type": "execute_result",
          "data": {
            "text/html": [
              "<div>\n",
              "<style scoped>\n",
              "    .dataframe tbody tr th:only-of-type {\n",
              "        vertical-align: middle;\n",
              "    }\n",
              "\n",
              "    .dataframe tbody tr th {\n",
              "        vertical-align: top;\n",
              "    }\n",
              "\n",
              "    .dataframe thead th {\n",
              "        text-align: right;\n",
              "    }\n",
              "</style>\n",
              "<table border=\"1\" class=\"dataframe\">\n",
              "  <thead>\n",
              "    <tr style=\"text-align: right;\">\n",
              "      <th></th>\n",
              "      <th>bin</th>\n",
              "    </tr>\n",
              "  </thead>\n",
              "  <tbody>\n",
              "    <tr>\n",
              "      <th>1970-01-17 17:50:34.380</th>\n",
              "      <td>1</td>\n",
              "    </tr>\n",
              "    <tr>\n",
              "      <th>1970-01-17 17:50:34.800</th>\n",
              "      <td>1</td>\n",
              "    </tr>\n",
              "    <tr>\n",
              "      <th>1970-01-17 17:50:35.220</th>\n",
              "      <td>1</td>\n",
              "    </tr>\n",
              "    <tr>\n",
              "      <th>1970-01-17 17:50:36.000</th>\n",
              "      <td>1</td>\n",
              "    </tr>\n",
              "    <tr>\n",
              "      <th>1970-01-17 17:50:36.180</th>\n",
              "      <td>1</td>\n",
              "    </tr>\n",
              "    <tr>\n",
              "      <th>...</th>\n",
              "      <td>...</td>\n",
              "    </tr>\n",
              "    <tr>\n",
              "      <th>1970-01-18 07:31:17.160</th>\n",
              "      <td>0</td>\n",
              "    </tr>\n",
              "    <tr>\n",
              "      <th>1970-01-18 07:31:17.520</th>\n",
              "      <td>0</td>\n",
              "    </tr>\n",
              "    <tr>\n",
              "      <th>1970-01-18 07:31:17.760</th>\n",
              "      <td>0</td>\n",
              "    </tr>\n",
              "    <tr>\n",
              "      <th>1970-01-18 07:31:17.880</th>\n",
              "      <td>0</td>\n",
              "    </tr>\n",
              "    <tr>\n",
              "      <th>1970-01-18 07:31:18.540</th>\n",
              "      <td>0</td>\n",
              "    </tr>\n",
              "  </tbody>\n",
              "</table>\n",
              "<p>4675 rows × 1 columns</p>\n",
              "</div>"
            ],
            "text/plain": [
              "                         bin\n",
              "1970-01-17 17:50:34.380    1\n",
              "1970-01-17 17:50:34.800    1\n",
              "1970-01-17 17:50:35.220    1\n",
              "1970-01-17 17:50:36.000    1\n",
              "1970-01-17 17:50:36.180    1\n",
              "...                      ...\n",
              "1970-01-18 07:31:17.160    0\n",
              "1970-01-18 07:31:17.520    0\n",
              "1970-01-18 07:31:17.760    0\n",
              "1970-01-18 07:31:17.880    0\n",
              "1970-01-18 07:31:18.540    0\n",
              "\n",
              "[4675 rows x 1 columns]"
            ]
          },
          "metadata": {},
          "execution_count": 104
        }
      ]
    },
    {
      "cell_type": "markdown",
      "metadata": {
        "id": "KrWSVElfZh_P"
      },
      "source": [
        "Creating Secondary Model"
      ]
    },
    {
      "cell_type": "code",
      "metadata": {
        "id": "u6y3nt6D8RN6",
        "outputId": "a2d5a5db-79a2-4c57-ea53-9fe24a819cdd",
        "colab": {
          "base_uri": "https://localhost:8080/"
        }
      },
      "source": [
        "# Get features at event dates\n",
        "X = data.loc[labels.index, :]\n",
        "y = labels['bin']\n",
        "\n",
        "# Split data\n",
        "X_train, X_test, y_train, y_test = train_test_split(X, y, test_size=0.2, shuffle=False)\n",
        "\n",
        "# Setting random forest parameters\n",
        "n_estimator = 1000\n",
        "depth = 2\n",
        "RANDOM_STATE = 0\n",
        "\n",
        "rf = RandomForestClassifier(max_depth=depth, n_estimators=n_estimator,\n",
        "                            criterion='entropy', class_weight='balanced_subsample',\n",
        "                            random_state=RANDOM_STATE)\n",
        "\n",
        "# Fitting our model\n",
        "rf.fit(X_train, y_train)"
      ],
      "execution_count": 105,
      "outputs": [
        {
          "output_type": "execute_result",
          "data": {
            "text/plain": [
              "RandomForestClassifier(class_weight='balanced_subsample', criterion='entropy',\n",
              "                       max_depth=2, n_estimators=1000, random_state=0)"
            ]
          },
          "metadata": {},
          "execution_count": 105
        }
      ]
    },
    {
      "cell_type": "markdown",
      "metadata": {
        "id": "_c0rScbEQ8j5"
      },
      "source": [
        "Evaluating Secondary Model Training Performance"
      ]
    },
    {
      "cell_type": "code",
      "metadata": {
        "colab": {
          "base_uri": "https://localhost:8080/",
          "height": 731
        },
        "id": "lOXJqV2JZspp",
        "outputId": "bfde6cb4-bdd8-4c32-8ede-e710c97407e5"
      },
      "source": [
        "# Performance Metrics\n",
        "y_pred_rf = rf.predict_proba(X_train)[:, 1]\n",
        "y_pred = rf.predict(X_train)\n",
        "fpr_rf, tpr_rf, _ = roc_curve(y_train, y_pred_rf)\n",
        "print(classification_report(y_train, y_pred))\n",
        "\n",
        "print(\"Confusion Matrix\")\n",
        "print(confusion_matrix(y_train, y_pred))\n",
        "\n",
        "print('')\n",
        "print(\"Accuracy\")\n",
        "print(accuracy_score(y_train, y_pred))\n",
        "\n",
        "plt.figure(1)\n",
        "plt.plot([0, 1], [0, 1], 'k--')\n",
        "plt.plot(fpr_rf, tpr_rf, label='RF')\n",
        "plt.xlabel('False positive rate')\n",
        "plt.ylabel('True positive rate')\n",
        "plt.title('ROC curve')\n",
        "plt.legend(loc='best')\n",
        "plt.show()"
      ],
      "execution_count": 106,
      "outputs": [
        {
          "output_type": "stream",
          "name": "stdout",
          "text": [
            "              precision    recall  f1-score   support\n",
            "\n",
            "           0       1.00      1.00      1.00      2243\n",
            "           1       1.00      1.00      1.00      1497\n",
            "\n",
            "    accuracy                           1.00      3740\n",
            "   macro avg       1.00      1.00      1.00      3740\n",
            "weighted avg       1.00      1.00      1.00      3740\n",
            "\n",
            "Confusion Matrix\n",
            "[[2243    0]\n",
            " [   0 1497]]\n",
            "\n",
            "Accuracy\n",
            "1.0\n"
          ]
        },
        {
          "output_type": "display_data",
          "data": {
            "image/png": "[encoded data removed]",
            "text/plain": [
              "<Figure size 748.8x514.8 with 1 Axes>"
            ]
          },
          "metadata": {
            "needs_background": "light"
          }
        }
      ]
    },
    {
      "cell_type": "markdown",
      "metadata": {
        "id": "M8Ax6AHXQ_51"
      },
      "source": [
        "Evaluating Secondary Model Testing Performance"
      ]
    },
    {
      "cell_type": "code",
      "metadata": {
        "colab": {
          "base_uri": "https://localhost:8080/",
          "height": 731
        },
        "id": "F9UbXoGvZvFL",
        "outputId": "476140f2-1ac3-4c43-e97b-5a7f4c05ddb3"
      },
      "source": [
        "# Performance Metrics\n",
        "y_pred_rf = rf.predict_proba(X_test)[:, 1]\n",
        "y_pred = rf.predict(X_test)\n",
        "fpr_rf, tpr_rf, _ = roc_curve(y_test, y_pred_rf)\n",
        "print(classification_report(y_test, y_pred))\n",
        "\n",
        "print(\"Confusion Matrix\")\n",
        "print(confusion_matrix(y_test, y_pred))\n",
        "\n",
        "print('')\n",
        "print(\"Accuracy\")\n",
        "print(accuracy_score(y_test, y_pred))\n",
        "\n",
        "plt.figure(1)\n",
        "plt.plot([0, 1], [0, 1], 'k--')\n",
        "plt.plot(fpr_rf, tpr_rf, label='RF')\n",
        "plt.xlabel('False positive rate')\n",
        "plt.ylabel('True positive rate')\n",
        "plt.title('ROC curve')\n",
        "plt.legend(loc='best')\n",
        "plt.show()"
      ],
      "execution_count": 107,
      "outputs": [
        {
          "output_type": "stream",
          "name": "stdout",
          "text": [
            "              precision    recall  f1-score   support\n",
            "\n",
            "           0       1.00      1.00      1.00       484\n",
            "           1       1.00      1.00      1.00       451\n",
            "\n",
            "    accuracy                           1.00       935\n",
            "   macro avg       1.00      1.00      1.00       935\n",
            "weighted avg       1.00      1.00      1.00       935\n",
            "\n",
            "Confusion Matrix\n",
            "[[484   0]\n",
            " [  2 449]]\n",
            "\n",
            "Accuracy\n",
            "0.9978609625668449\n"
          ]
        },
        {
          "output_type": "display_data",
          "data": {
            "image/png": "[encoded data removed]",
            "text/plain": [
              "<Figure size 748.8x514.8 with 1 Axes>"
            ]
          },
          "metadata": {
            "needs_background": "light"
          }
        }
      ]
    },
    {
      "cell_type": "code",
      "metadata": {
        "id": "LJXJM_P6fdiX",
        "outputId": "80a02e80-cfae-4795-8c89-e3970b1e0611",
        "colab": {
          "base_uri": "https://localhost:8080/"
        }
      },
      "source": [
        "print(actual.head())"
      ],
      "execution_count": 113,
      "outputs": [
        {
          "output_type": "stream",
          "name": "stdout",
          "text": [
            "1970-01-17 17:50:34.380    1\n",
            "1970-01-17 17:50:34.800    1\n",
            "1970-01-17 17:50:35.220    1\n",
            "1970-01-17 17:50:36.000    1\n",
            "1970-01-17 17:50:36.180    1\n",
            "Name: actual, dtype: int64\n"
          ]
        }
      ]
    },
    {
      "cell_type": "code",
      "metadata": {
        "id": "iNEqY1rcFSW9",
        "outputId": "c0f5fd70-af1e-4e7a-cf7b-518430dd67ab",
        "colab": {
          "base_uri": "https://localhost:8080/"
        }
      },
      "source": [
        "print(pred.head())"
      ],
      "execution_count": 112,
      "outputs": [
        {
          "output_type": "stream",
          "name": "stdout",
          "text": [
            "1970-01-17 17:50:34.380    1\n",
            "1970-01-17 17:50:34.800    1\n",
            "1970-01-17 17:50:35.220    1\n",
            "1970-01-17 17:50:36.000    1\n",
            "1970-01-17 17:50:36.180    1\n",
            "Name: pred, dtype: int64\n"
          ]
        }
      ]
    },
    {
      "cell_type": "code",
      "metadata": {
        "id": "sOfUsaaAFTpb",
        "outputId": "74455706-bd6a-4810-f75e-e8841ce6a629",
        "colab": {
          "base_uri": "https://localhost:8080/",
          "height": 459
        }
      },
      "source": [
        "plt.figure(1)\n",
        "plt.plot(actual)\n",
        "plt.plot(pred)"
      ],
      "execution_count": 111,
      "outputs": [
        {
          "output_type": "execute_result",
          "data": {
            "text/plain": [
              "[<matplotlib.lines.Line2D at 0x7fdb6c48fb10>]"
            ]
          },
          "metadata": {},
          "execution_count": 111
        },
        {
          "output_type": "display_data",
          "data": {
            "image/png": "[encoded data removed]",
            "text/plain": [
              "<Figure size 748.8x514.8 with 1 Axes>"
            ]
          },
          "metadata": {
            "needs_background": "light"
          }
        }
      ]
    },
    {
      "cell_type": "code",
      "metadata": {
        "id": "14ehkqTuFdOd"
      },
      "source": [
        ""
      ],
      "execution_count": null,
      "outputs": []
    }
  ]
}